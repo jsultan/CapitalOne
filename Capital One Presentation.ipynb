{
 "cells": [
  {
   "cell_type": "markdown",
   "metadata": {},
   "source": [
    "# Capital One - NYC Green Taxi Data\n",
    "\n",
    "In this notebook we will explore data from the NYC Taxi & Limosuine Commission website, specifically the data covering 'green' taxis on September 2015. Green taxis are those defined as 'taxis that are not allowed to pick up passengers inside of the densely populated areas of Manhattan'. We will address the questions specified for this interview, as well as explore the data for any additional insights we can find that will help us understand the data and build a better predictive model. "
   ]
  },
  {
   "cell_type": "code",
   "execution_count": 1,
   "metadata": {
    "collapsed": true
   },
   "outputs": [],
   "source": [
    "import pandas as pd\n",
    "import numpy as np\n",
    "import matplotlib.pyplot as plt\n",
    "import seaborn as sns\n",
    "plt.style.use('fivethirtyeight')"
   ]
  },
  {
   "cell_type": "markdown",
   "metadata": {},
   "source": [
    "## Exploratory Data Analysis\n",
    "\n",
    "After importing the libraries we will initially need, we will go ahead and read in the data. This is a very large data set will almost 1.5 million entries and 21 features. Comprehensive information about each feature can be found on the NYC taxi commission website (found here http://www.nyc.gov/html/tlc/downloads/pdf/data_dictionary_trip_records_green.pdf). Initially glancing over the data, we see that there are two main subcategories of features: those dealing with location/time and those dealing with cost.  Although almost all the values are numeric, some represent categorical features that have been encoded into integers (as seen on the information guide on the website), this will be important to keep in mind."
   ]
  },
  {
   "cell_type": "code",
   "execution_count": 4,
   "metadata": {},
   "outputs": [
    {
     "name": "stdout",
     "output_type": "stream",
     "text": [
      "Number of rows: 1494926\n",
      "Number of columns: 21\n"
     ]
    },
    {
     "data": {
      "text/html": [
       "<div>\n",
       "<style>\n",
       "    .dataframe thead tr:only-child th {\n",
       "        text-align: right;\n",
       "    }\n",
       "\n",
       "    .dataframe thead th {\n",
       "        text-align: left;\n",
       "    }\n",
       "\n",
       "    .dataframe tbody tr th {\n",
       "        vertical-align: top;\n",
       "    }\n",
       "</style>\n",
       "<table border=\"1\" class=\"dataframe\">\n",
       "  <thead>\n",
       "    <tr style=\"text-align: right;\">\n",
       "      <th></th>\n",
       "      <th>VendorID</th>\n",
       "      <th>RateCodeID</th>\n",
       "      <th>Pickup_longitude</th>\n",
       "      <th>Pickup_latitude</th>\n",
       "      <th>Dropoff_longitude</th>\n",
       "      <th>Dropoff_latitude</th>\n",
       "      <th>Passenger_count</th>\n",
       "      <th>Trip_distance</th>\n",
       "      <th>Fare_amount</th>\n",
       "      <th>Extra</th>\n",
       "      <th>MTA_tax</th>\n",
       "      <th>Tip_amount</th>\n",
       "      <th>Tolls_amount</th>\n",
       "      <th>Ehail_fee</th>\n",
       "      <th>improvement_surcharge</th>\n",
       "      <th>Total_amount</th>\n",
       "      <th>Payment_type</th>\n",
       "      <th>Trip_type</th>\n",
       "    </tr>\n",
       "  </thead>\n",
       "  <tbody>\n",
       "    <tr>\n",
       "      <th>count</th>\n",
       "      <td>1.494926e+06</td>\n",
       "      <td>1.494926e+06</td>\n",
       "      <td>1.494926e+06</td>\n",
       "      <td>1.494926e+06</td>\n",
       "      <td>1.494926e+06</td>\n",
       "      <td>1.494926e+06</td>\n",
       "      <td>1.494926e+06</td>\n",
       "      <td>1.494926e+06</td>\n",
       "      <td>1.494926e+06</td>\n",
       "      <td>1.494926e+06</td>\n",
       "      <td>1.494926e+06</td>\n",
       "      <td>1.494926e+06</td>\n",
       "      <td>1.494926e+06</td>\n",
       "      <td>0.0</td>\n",
       "      <td>1.494926e+06</td>\n",
       "      <td>1.494926e+06</td>\n",
       "      <td>1.494926e+06</td>\n",
       "      <td>1.494922e+06</td>\n",
       "    </tr>\n",
       "    <tr>\n",
       "      <th>mean</th>\n",
       "      <td>1.782045e+00</td>\n",
       "      <td>1.097653e+00</td>\n",
       "      <td>-7.383084e+01</td>\n",
       "      <td>4.069114e+01</td>\n",
       "      <td>-7.383728e+01</td>\n",
       "      <td>4.069291e+01</td>\n",
       "      <td>1.370598e+00</td>\n",
       "      <td>2.968141e+00</td>\n",
       "      <td>1.254320e+01</td>\n",
       "      <td>3.512800e-01</td>\n",
       "      <td>4.866408e-01</td>\n",
       "      <td>1.235727e+00</td>\n",
       "      <td>1.231047e-01</td>\n",
       "      <td>NaN</td>\n",
       "      <td>2.920991e-01</td>\n",
       "      <td>1.503215e+01</td>\n",
       "      <td>1.540559e+00</td>\n",
       "      <td>1.022353e+00</td>\n",
       "    </tr>\n",
       "    <tr>\n",
       "      <th>std</th>\n",
       "      <td>4.128570e-01</td>\n",
       "      <td>6.359437e-01</td>\n",
       "      <td>2.776082e+00</td>\n",
       "      <td>1.530882e+00</td>\n",
       "      <td>2.677911e+00</td>\n",
       "      <td>1.476698e+00</td>\n",
       "      <td>1.039426e+00</td>\n",
       "      <td>3.076621e+00</td>\n",
       "      <td>1.008278e+01</td>\n",
       "      <td>3.663096e-01</td>\n",
       "      <td>8.504473e-02</td>\n",
       "      <td>2.431476e+00</td>\n",
       "      <td>8.910137e-01</td>\n",
       "      <td>NaN</td>\n",
       "      <td>5.074009e-02</td>\n",
       "      <td>1.155316e+01</td>\n",
       "      <td>5.232935e-01</td>\n",
       "      <td>1.478288e-01</td>\n",
       "    </tr>\n",
       "    <tr>\n",
       "      <th>min</th>\n",
       "      <td>1.000000e+00</td>\n",
       "      <td>1.000000e+00</td>\n",
       "      <td>-8.331908e+01</td>\n",
       "      <td>0.000000e+00</td>\n",
       "      <td>-8.342784e+01</td>\n",
       "      <td>0.000000e+00</td>\n",
       "      <td>0.000000e+00</td>\n",
       "      <td>0.000000e+00</td>\n",
       "      <td>-4.750000e+02</td>\n",
       "      <td>-1.000000e+00</td>\n",
       "      <td>-5.000000e-01</td>\n",
       "      <td>-5.000000e+01</td>\n",
       "      <td>-1.529000e+01</td>\n",
       "      <td>NaN</td>\n",
       "      <td>-3.000000e-01</td>\n",
       "      <td>-4.750000e+02</td>\n",
       "      <td>1.000000e+00</td>\n",
       "      <td>1.000000e+00</td>\n",
       "    </tr>\n",
       "    <tr>\n",
       "      <th>25%</th>\n",
       "      <td>2.000000e+00</td>\n",
       "      <td>1.000000e+00</td>\n",
       "      <td>-7.395961e+01</td>\n",
       "      <td>4.069895e+01</td>\n",
       "      <td>-7.396782e+01</td>\n",
       "      <td>4.069878e+01</td>\n",
       "      <td>1.000000e+00</td>\n",
       "      <td>1.100000e+00</td>\n",
       "      <td>6.500000e+00</td>\n",
       "      <td>0.000000e+00</td>\n",
       "      <td>5.000000e-01</td>\n",
       "      <td>0.000000e+00</td>\n",
       "      <td>0.000000e+00</td>\n",
       "      <td>NaN</td>\n",
       "      <td>3.000000e-01</td>\n",
       "      <td>8.160000e+00</td>\n",
       "      <td>1.000000e+00</td>\n",
       "      <td>1.000000e+00</td>\n",
       "    </tr>\n",
       "    <tr>\n",
       "      <th>50%</th>\n",
       "      <td>2.000000e+00</td>\n",
       "      <td>1.000000e+00</td>\n",
       "      <td>-7.394536e+01</td>\n",
       "      <td>4.074674e+01</td>\n",
       "      <td>-7.394504e+01</td>\n",
       "      <td>4.074728e+01</td>\n",
       "      <td>1.000000e+00</td>\n",
       "      <td>1.980000e+00</td>\n",
       "      <td>9.500000e+00</td>\n",
       "      <td>5.000000e-01</td>\n",
       "      <td>5.000000e-01</td>\n",
       "      <td>0.000000e+00</td>\n",
       "      <td>0.000000e+00</td>\n",
       "      <td>NaN</td>\n",
       "      <td>3.000000e-01</td>\n",
       "      <td>1.176000e+01</td>\n",
       "      <td>2.000000e+00</td>\n",
       "      <td>1.000000e+00</td>\n",
       "    </tr>\n",
       "    <tr>\n",
       "      <th>75%</th>\n",
       "      <td>2.000000e+00</td>\n",
       "      <td>1.000000e+00</td>\n",
       "      <td>-7.391748e+01</td>\n",
       "      <td>4.080255e+01</td>\n",
       "      <td>-7.391013e+01</td>\n",
       "      <td>4.079015e+01</td>\n",
       "      <td>1.000000e+00</td>\n",
       "      <td>3.740000e+00</td>\n",
       "      <td>1.550000e+01</td>\n",
       "      <td>5.000000e-01</td>\n",
       "      <td>5.000000e-01</td>\n",
       "      <td>2.000000e+00</td>\n",
       "      <td>0.000000e+00</td>\n",
       "      <td>NaN</td>\n",
       "      <td>3.000000e-01</td>\n",
       "      <td>1.830000e+01</td>\n",
       "      <td>2.000000e+00</td>\n",
       "      <td>1.000000e+00</td>\n",
       "    </tr>\n",
       "    <tr>\n",
       "      <th>max</th>\n",
       "      <td>2.000000e+00</td>\n",
       "      <td>9.900000e+01</td>\n",
       "      <td>0.000000e+00</td>\n",
       "      <td>4.317726e+01</td>\n",
       "      <td>0.000000e+00</td>\n",
       "      <td>4.279934e+01</td>\n",
       "      <td>9.000000e+00</td>\n",
       "      <td>6.031000e+02</td>\n",
       "      <td>5.805000e+02</td>\n",
       "      <td>1.200000e+01</td>\n",
       "      <td>5.000000e-01</td>\n",
       "      <td>3.000000e+02</td>\n",
       "      <td>9.575000e+01</td>\n",
       "      <td>NaN</td>\n",
       "      <td>3.000000e-01</td>\n",
       "      <td>5.813000e+02</td>\n",
       "      <td>5.000000e+00</td>\n",
       "      <td>2.000000e+00</td>\n",
       "    </tr>\n",
       "  </tbody>\n",
       "</table>\n",
       "</div>"
      ],
      "text/plain": [
       "           VendorID    RateCodeID  Pickup_longitude  Pickup_latitude  \\\n",
       "count  1.494926e+06  1.494926e+06      1.494926e+06     1.494926e+06   \n",
       "mean   1.782045e+00  1.097653e+00     -7.383084e+01     4.069114e+01   \n",
       "std    4.128570e-01  6.359437e-01      2.776082e+00     1.530882e+00   \n",
       "min    1.000000e+00  1.000000e+00     -8.331908e+01     0.000000e+00   \n",
       "25%    2.000000e+00  1.000000e+00     -7.395961e+01     4.069895e+01   \n",
       "50%    2.000000e+00  1.000000e+00     -7.394536e+01     4.074674e+01   \n",
       "75%    2.000000e+00  1.000000e+00     -7.391748e+01     4.080255e+01   \n",
       "max    2.000000e+00  9.900000e+01      0.000000e+00     4.317726e+01   \n",
       "\n",
       "       Dropoff_longitude  Dropoff_latitude  Passenger_count  Trip_distance  \\\n",
       "count       1.494926e+06      1.494926e+06     1.494926e+06   1.494926e+06   \n",
       "mean       -7.383728e+01      4.069291e+01     1.370598e+00   2.968141e+00   \n",
       "std         2.677911e+00      1.476698e+00     1.039426e+00   3.076621e+00   \n",
       "min        -8.342784e+01      0.000000e+00     0.000000e+00   0.000000e+00   \n",
       "25%        -7.396782e+01      4.069878e+01     1.000000e+00   1.100000e+00   \n",
       "50%        -7.394504e+01      4.074728e+01     1.000000e+00   1.980000e+00   \n",
       "75%        -7.391013e+01      4.079015e+01     1.000000e+00   3.740000e+00   \n",
       "max         0.000000e+00      4.279934e+01     9.000000e+00   6.031000e+02   \n",
       "\n",
       "        Fare_amount         Extra       MTA_tax    Tip_amount  Tolls_amount  \\\n",
       "count  1.494926e+06  1.494926e+06  1.494926e+06  1.494926e+06  1.494926e+06   \n",
       "mean   1.254320e+01  3.512800e-01  4.866408e-01  1.235727e+00  1.231047e-01   \n",
       "std    1.008278e+01  3.663096e-01  8.504473e-02  2.431476e+00  8.910137e-01   \n",
       "min   -4.750000e+02 -1.000000e+00 -5.000000e-01 -5.000000e+01 -1.529000e+01   \n",
       "25%    6.500000e+00  0.000000e+00  5.000000e-01  0.000000e+00  0.000000e+00   \n",
       "50%    9.500000e+00  5.000000e-01  5.000000e-01  0.000000e+00  0.000000e+00   \n",
       "75%    1.550000e+01  5.000000e-01  5.000000e-01  2.000000e+00  0.000000e+00   \n",
       "max    5.805000e+02  1.200000e+01  5.000000e-01  3.000000e+02  9.575000e+01   \n",
       "\n",
       "       Ehail_fee  improvement_surcharge  Total_amount  Payment_type  \\\n",
       "count        0.0           1.494926e+06  1.494926e+06  1.494926e+06   \n",
       "mean         NaN           2.920991e-01  1.503215e+01  1.540559e+00   \n",
       "std          NaN           5.074009e-02  1.155316e+01  5.232935e-01   \n",
       "min          NaN          -3.000000e-01 -4.750000e+02  1.000000e+00   \n",
       "25%          NaN           3.000000e-01  8.160000e+00  1.000000e+00   \n",
       "50%          NaN           3.000000e-01  1.176000e+01  2.000000e+00   \n",
       "75%          NaN           3.000000e-01  1.830000e+01  2.000000e+00   \n",
       "max          NaN           3.000000e-01  5.813000e+02  5.000000e+00   \n",
       "\n",
       "         Trip_type   \n",
       "count  1.494922e+06  \n",
       "mean   1.022353e+00  \n",
       "std    1.478288e-01  \n",
       "min    1.000000e+00  \n",
       "25%    1.000000e+00  \n",
       "50%    1.000000e+00  \n",
       "75%    1.000000e+00  \n",
       "max    2.000000e+00  "
      ]
     },
     "execution_count": 4,
     "metadata": {},
     "output_type": "execute_result"
    }
   ],
   "source": [
    "#Question 1\n",
    "data = pd.read_csv('green_tripdata_2015-09.csv')\n",
    "\n",
    "print('Number of rows:',data.shape[0])\n",
    "print('Number of columns:',data.shape[1])\n",
    "\n",
    "data.describe()"
   ]
  },
  {
   "cell_type": "markdown",
   "metadata": {},
   "source": [
    "We will go ahead and analyze the trip distances in our data. A histogram is a fantastic visualization for continuous data, however we see one inherent problem from the initial plotting of our data. Due to the binning structure of a histogram, much of the information is lost when outliers are present. Because the histogram will attempt to show all the data, those outliers which are far away from the majority of the data will have equal representation on the X-axis. This will cause a major distortion in the histogram in which the majority of the data will be bucketed into one bin, as we see in the figure below."
   ]
  },
  {
   "cell_type": "code",
   "execution_count": 6,
   "metadata": {},
   "outputs": [
    {
     "data": {
      "image/png": "[encoded data removed]",
      "text/plain": [
       "<matplotlib.figure.Figure at 0x294961ab3c8>"
      ]
     },
     "metadata": {},
     "output_type": "display_data"
    }
   ],
   "source": [
    "#Question 2\n",
    "data['Trip_distance'].hist(bins = 30)\n",
    "plt.title('Trip Distance With All Data')\n",
    "plt.xlabel('Distance (miles)')\n",
    "plt.ylabel('Count')\n",
    "plt.show()"
   ]
  },
  {
   "cell_type": "markdown",
   "metadata": {},
   "source": [
    "We can deal with this problem by sub-setting our data with those points not classified as outliers. An outlier can be defined in many ways, most often being defined as those points which are a certain number of standard deviations from the mean. However, knowing that there are outliers that are vastly different from the majority of the population, I opted to define an outlier using the median as the measure of centrality and the median absolute deviation (MAD for short) as the measure of dispersion. Both the mean and standard deviation are susceptible to outliers which skew their value so the median and MAD are better representations of this data. In order to be conservative with how much data I threw out, I defined an outlier as being 5 times the MAD greater/less than the median of this population. After doing so, the resulting histogram shows a very right skewed distribution which confirms that the median and MAD will be a better representation of our data."
   ]
  },
  {
   "cell_type": "code",
   "execution_count": 44,
   "metadata": {},
   "outputs": [
    {
     "data": {
      "image/png": "[encoded data removed]",
      "text/plain": [
       "<matplotlib.figure.Figure at 0x294f7fcaba8>"
      ]
     },
     "metadata": {},
     "output_type": "display_data"
    }
   ],
   "source": [
    "def MAD(x):\n",
    "    mad = np.median(np.abs(x - np.median(x)))\n",
    "    return mad\n",
    "\n",
    "dist_no_out = data.Trip_distance[ (data.Trip_distance - np.median(data.Trip_distance)) < 5*MAD(data.Trip_distance)]\n",
    "\n",
    "dist_no_out.hist(bins = 30)\n",
    "plt.title('Trip Distance Without Outliers')\n",
    "plt.xlabel('Distance (miles)')\n",
    "plt.ylabel('Count')\n",
    "plt.show()"
   ]
  },
  {
   "cell_type": "markdown",
   "metadata": {},
   "source": [
    "Most often times in the real world a right skewed distribution can fitted by a lognormal distribution. In order to check if this assumption is correct, we will use the SciPy library to find the maximum likelihood estimates (MLE's) of a lognormal distribution of our data. We assume that the location paramater is 0 and the scale paramter is equal to the median so we are most interested in finding the shape parameter of our distribution. After find the MLE of the shape parameter, we can overlay the distribution with a frequency histogram and visually inspect how good of a fit we have. From looking as the overlay, we see that the data seems to fit very well to this distribution. "
   ]
  },
  {
   "cell_type": "code",
   "execution_count": 8,
   "metadata": {},
   "outputs": [
    {
     "data": {
      "image/png": "[encoded data removed]",
      "text/plain": [
       "<matplotlib.figure.Figure at 0x294cf56f898>"
      ]
     },
     "metadata": {},
     "output_type": "display_data"
    }
   ],
   "source": [
    "import scipy.stats as sp\n",
    "\n",
    "shape, loc, scale = sp.lognorm.fit(dist_no_out, loc = 0, scale = np.median(dist_no_out))\n",
    "dist_pdf = sp.lognorm.pdf(np.arange(min(dist_no_out),max(dist_no_out),.1), shape, loc, scale)\n",
    "\n",
    "dist_no_out.hist(bins = 30, normed = True)\n",
    "plt.plot(np.arange(min(dist_no_out), max(dist_no_out),.1), dist_pdf)\n",
    "plt.title('Frequency Histogram \\n Trip Distance Without Outliers')\n",
    "plt.xlabel('Distance (miles)')\n",
    "plt.ylabel('Frequency')\n",
    "plt.show()"
   ]
  },
  {
   "cell_type": "markdown",
   "metadata": {},
   "source": [
    "Assuming our data is log-normally distribution, another check we can do is see if a log transform of our data fits a normal distribution. From visual inspection, the data does seem normal, however the tails on the right side seem a bit heavier than that of a standard normal distribution. This transform may be important due to some statistical tests which require a parametric assumption of normality of our data. To go even further, we could do a boxcox transform to find the power transform which would make our data most normal (as we can see on the second plot below). The resulting histogram from the boxcox transform is very similar to the log transform, so the log transform will do if we need to change the data in the future. "
   ]
  },
  {
   "cell_type": "code",
   "execution_count": 10,
   "metadata": {},
   "outputs": [
    {
     "data": {
      "image/png": "[encoded data removed]",
      "text/plain": [
       "<matplotlib.figure.Figure at 0x294cf56f7f0>"
      ]
     },
     "metadata": {},
     "output_type": "display_data"
    }
   ],
   "source": [
    "np.log1p(dist_no_out).hist(bins = 30)\n",
    "plt.title('Trip Distance Without Outliers \\nand Log Transformed')\n",
    "plt.xlabel('Distance (miles)')\n",
    "plt.ylabel('Count')\n",
    "plt.show()"
   ]
  },
  {
   "cell_type": "code",
   "execution_count": 17,
   "metadata": {},
   "outputs": [
    {
     "data": {
      "image/png": "[encoded data removed]",
      "text/plain": [
       "<matplotlib.figure.Figure at 0x294dd5a3a90>"
      ]
     },
     "metadata": {},
     "output_type": "display_data"
    }
   ],
   "source": [
    "box_dist,_ = sp.boxcox(dist_no_out+1)\n",
    "\n",
    "plt.hist(box_dist, bins = 30)\n",
    "plt.title('Trip Distance Without Outliers \\nand Boxcox Transformed')\n",
    "plt.xlabel('Distance (miles)')\n",
    "plt.ylabel('Frequency')\n",
    "plt.show()"
   ]
  },
  {
   "cell_type": "markdown",
   "metadata": {},
   "source": [
    "We would like to inspect how the mean and medium trip distance varies hour over hour for both pickup and drop-off hours. Since the data was read as a character, we find need to specify that the format is a date-time, then extract the hour from this. We can then easily create a pivot table for both the pickup and drop-off hours. We see that the greatest distances tend to be early in the morning  around 5am to 6am. A quick hypothesis about this would be that these are people who live farther away from their work places trying to beat the morning rush hour."
   ]
  },
  {
   "cell_type": "code",
   "execution_count": null,
   "metadata": {
    "collapsed": true
   },
   "outputs": [],
   "source": [
    "#Question 3\n",
    "from datetime import datetime\n",
    "\n",
    "    \n",
    "data['pickup_time'] = data.lpep_pickup_datetime.apply( lambda x: datetime.strptime(x, \"%Y-%m-%d %H:%M:%S\"))\n",
    "data['dropoff_time'] = data.Lpep_dropoff_datetime.apply( lambda x: datetime.strptime(x, \"%Y-%m-%d %H:%M:%S\"))\n",
    "\n",
    "data['pickup_hour'] = data.pickup_time.apply(lambda x: x.hour)\n",
    "data['dropoff_hour'] = data.dropoff_time.apply(lambda x: x.hour)"
   ]
  },
  {
   "cell_type": "code",
   "execution_count": 19,
   "metadata": {},
   "outputs": [
    {
     "data": {
      "text/html": [
       "<div>\n",
       "<style>\n",
       "    .dataframe thead tr:only-child th {\n",
       "        text-align: right;\n",
       "    }\n",
       "\n",
       "    .dataframe thead th {\n",
       "        text-align: left;\n",
       "    }\n",
       "\n",
       "    .dataframe tbody tr th {\n",
       "        vertical-align: top;\n",
       "    }\n",
       "</style>\n",
       "<table border=\"1\" class=\"dataframe\">\n",
       "  <thead>\n",
       "    <tr style=\"text-align: right;\">\n",
       "      <th></th>\n",
       "      <th>mean</th>\n",
       "      <th>median</th>\n",
       "    </tr>\n",
       "    <tr>\n",
       "      <th>pickup_hour</th>\n",
       "      <th></th>\n",
       "      <th></th>\n",
       "    </tr>\n",
       "  </thead>\n",
       "  <tbody>\n",
       "    <tr>\n",
       "      <th>0</th>\n",
       "      <td>3.115276</td>\n",
       "      <td>2.20</td>\n",
       "    </tr>\n",
       "    <tr>\n",
       "      <th>1</th>\n",
       "      <td>3.017347</td>\n",
       "      <td>2.12</td>\n",
       "    </tr>\n",
       "    <tr>\n",
       "      <th>2</th>\n",
       "      <td>3.046176</td>\n",
       "      <td>2.14</td>\n",
       "    </tr>\n",
       "    <tr>\n",
       "      <th>3</th>\n",
       "      <td>3.212945</td>\n",
       "      <td>2.20</td>\n",
       "    </tr>\n",
       "    <tr>\n",
       "      <th>4</th>\n",
       "      <td>3.526555</td>\n",
       "      <td>2.36</td>\n",
       "    </tr>\n",
       "    <tr>\n",
       "      <th>5</th>\n",
       "      <td>4.133474</td>\n",
       "      <td>2.90</td>\n",
       "    </tr>\n",
       "    <tr>\n",
       "      <th>6</th>\n",
       "      <td>4.055149</td>\n",
       "      <td>2.84</td>\n",
       "    </tr>\n",
       "    <tr>\n",
       "      <th>7</th>\n",
       "      <td>3.284394</td>\n",
       "      <td>2.17</td>\n",
       "    </tr>\n",
       "    <tr>\n",
       "      <th>8</th>\n",
       "      <td>3.048450</td>\n",
       "      <td>1.98</td>\n",
       "    </tr>\n",
       "    <tr>\n",
       "      <th>9</th>\n",
       "      <td>2.999105</td>\n",
       "      <td>1.96</td>\n",
       "    </tr>\n",
       "    <tr>\n",
       "      <th>10</th>\n",
       "      <td>2.944482</td>\n",
       "      <td>1.92</td>\n",
       "    </tr>\n",
       "    <tr>\n",
       "      <th>11</th>\n",
       "      <td>2.912015</td>\n",
       "      <td>1.88</td>\n",
       "    </tr>\n",
       "    <tr>\n",
       "      <th>12</th>\n",
       "      <td>2.903065</td>\n",
       "      <td>1.89</td>\n",
       "    </tr>\n",
       "    <tr>\n",
       "      <th>13</th>\n",
       "      <td>2.878294</td>\n",
       "      <td>1.84</td>\n",
       "    </tr>\n",
       "    <tr>\n",
       "      <th>14</th>\n",
       "      <td>2.864304</td>\n",
       "      <td>1.83</td>\n",
       "    </tr>\n",
       "    <tr>\n",
       "      <th>15</th>\n",
       "      <td>2.857040</td>\n",
       "      <td>1.81</td>\n",
       "    </tr>\n",
       "    <tr>\n",
       "      <th>16</th>\n",
       "      <td>2.779852</td>\n",
       "      <td>1.80</td>\n",
       "    </tr>\n",
       "    <tr>\n",
       "      <th>17</th>\n",
       "      <td>2.679114</td>\n",
       "      <td>1.78</td>\n",
       "    </tr>\n",
       "    <tr>\n",
       "      <th>18</th>\n",
       "      <td>2.653222</td>\n",
       "      <td>1.80</td>\n",
       "    </tr>\n",
       "    <tr>\n",
       "      <th>19</th>\n",
       "      <td>2.715597</td>\n",
       "      <td>1.85</td>\n",
       "    </tr>\n",
       "    <tr>\n",
       "      <th>20</th>\n",
       "      <td>2.777052</td>\n",
       "      <td>1.90</td>\n",
       "    </tr>\n",
       "    <tr>\n",
       "      <th>21</th>\n",
       "      <td>2.999189</td>\n",
       "      <td>2.03</td>\n",
       "    </tr>\n",
       "    <tr>\n",
       "      <th>22</th>\n",
       "      <td>3.185394</td>\n",
       "      <td>2.20</td>\n",
       "    </tr>\n",
       "    <tr>\n",
       "      <th>23</th>\n",
       "      <td>3.191538</td>\n",
       "      <td>2.22</td>\n",
       "    </tr>\n",
       "  </tbody>\n",
       "</table>\n",
       "</div>"
      ],
      "text/plain": [
       "                 mean  median\n",
       "pickup_hour                  \n",
       "0            3.115276    2.20\n",
       "1            3.017347    2.12\n",
       "2            3.046176    2.14\n",
       "3            3.212945    2.20\n",
       "4            3.526555    2.36\n",
       "5            4.133474    2.90\n",
       "6            4.055149    2.84\n",
       "7            3.284394    2.17\n",
       "8            3.048450    1.98\n",
       "9            2.999105    1.96\n",
       "10           2.944482    1.92\n",
       "11           2.912015    1.88\n",
       "12           2.903065    1.89\n",
       "13           2.878294    1.84\n",
       "14           2.864304    1.83\n",
       "15           2.857040    1.81\n",
       "16           2.779852    1.80\n",
       "17           2.679114    1.78\n",
       "18           2.653222    1.80\n",
       "19           2.715597    1.85\n",
       "20           2.777052    1.90\n",
       "21           2.999189    2.03\n",
       "22           3.185394    2.20\n",
       "23           3.191538    2.22"
      ]
     },
     "execution_count": 19,
     "metadata": {},
     "output_type": "execute_result"
    }
   ],
   "source": [
    "data.pivot_table(index='pickup_hour', values='Trip_distance', aggfunc=('mean','median'))"
   ]
  },
  {
   "cell_type": "code",
   "execution_count": 18,
   "metadata": {},
   "outputs": [
    {
     "data": {
      "text/html": [
       "<div>\n",
       "<style>\n",
       "    .dataframe thead tr:only-child th {\n",
       "        text-align: right;\n",
       "    }\n",
       "\n",
       "    .dataframe thead th {\n",
       "        text-align: left;\n",
       "    }\n",
       "\n",
       "    .dataframe tbody tr th {\n",
       "        vertical-align: top;\n",
       "    }\n",
       "</style>\n",
       "<table border=\"1\" class=\"dataframe\">\n",
       "  <thead>\n",
       "    <tr style=\"text-align: right;\">\n",
       "      <th></th>\n",
       "      <th>mean</th>\n",
       "      <th>median</th>\n",
       "    </tr>\n",
       "    <tr>\n",
       "      <th>dropoff_hour</th>\n",
       "      <th></th>\n",
       "      <th></th>\n",
       "    </tr>\n",
       "  </thead>\n",
       "  <tbody>\n",
       "    <tr>\n",
       "      <th>0</th>\n",
       "      <td>3.239356</td>\n",
       "      <td>2.28</td>\n",
       "    </tr>\n",
       "    <tr>\n",
       "      <th>1</th>\n",
       "      <td>3.130531</td>\n",
       "      <td>2.20</td>\n",
       "    </tr>\n",
       "    <tr>\n",
       "      <th>2</th>\n",
       "      <td>3.143715</td>\n",
       "      <td>2.21</td>\n",
       "    </tr>\n",
       "    <tr>\n",
       "      <th>3</th>\n",
       "      <td>3.225473</td>\n",
       "      <td>2.26</td>\n",
       "    </tr>\n",
       "    <tr>\n",
       "      <th>4</th>\n",
       "      <td>3.463798</td>\n",
       "      <td>2.37</td>\n",
       "    </tr>\n",
       "    <tr>\n",
       "      <th>5</th>\n",
       "      <td>4.187841</td>\n",
       "      <td>2.92</td>\n",
       "    </tr>\n",
       "    <tr>\n",
       "      <th>6</th>\n",
       "      <td>3.932660</td>\n",
       "      <td>2.76</td>\n",
       "    </tr>\n",
       "    <tr>\n",
       "      <th>7</th>\n",
       "      <td>3.217171</td>\n",
       "      <td>2.05</td>\n",
       "    </tr>\n",
       "    <tr>\n",
       "      <th>8</th>\n",
       "      <td>2.923779</td>\n",
       "      <td>1.87</td>\n",
       "    </tr>\n",
       "    <tr>\n",
       "      <th>9</th>\n",
       "      <td>3.016995</td>\n",
       "      <td>1.98</td>\n",
       "    </tr>\n",
       "    <tr>\n",
       "      <th>10</th>\n",
       "      <td>3.010999</td>\n",
       "      <td>1.98</td>\n",
       "    </tr>\n",
       "    <tr>\n",
       "      <th>11</th>\n",
       "      <td>2.879559</td>\n",
       "      <td>1.86</td>\n",
       "    </tr>\n",
       "    <tr>\n",
       "      <th>12</th>\n",
       "      <td>2.907513</td>\n",
       "      <td>1.90</td>\n",
       "    </tr>\n",
       "    <tr>\n",
       "      <th>13</th>\n",
       "      <td>2.889431</td>\n",
       "      <td>1.85</td>\n",
       "    </tr>\n",
       "    <tr>\n",
       "      <th>14</th>\n",
       "      <td>2.767255</td>\n",
       "      <td>1.80</td>\n",
       "    </tr>\n",
       "    <tr>\n",
       "      <th>15</th>\n",
       "      <td>2.771893</td>\n",
       "      <td>1.79</td>\n",
       "    </tr>\n",
       "    <tr>\n",
       "      <th>16</th>\n",
       "      <td>2.766404</td>\n",
       "      <td>1.80</td>\n",
       "    </tr>\n",
       "    <tr>\n",
       "      <th>17</th>\n",
       "      <td>2.690678</td>\n",
       "      <td>1.76</td>\n",
       "    </tr>\n",
       "    <tr>\n",
       "      <th>18</th>\n",
       "      <td>2.673491</td>\n",
       "      <td>1.80</td>\n",
       "    </tr>\n",
       "    <tr>\n",
       "      <th>19</th>\n",
       "      <td>2.746890</td>\n",
       "      <td>1.86</td>\n",
       "    </tr>\n",
       "    <tr>\n",
       "      <th>20</th>\n",
       "      <td>2.800049</td>\n",
       "      <td>1.92</td>\n",
       "    </tr>\n",
       "    <tr>\n",
       "      <th>21</th>\n",
       "      <td>2.931069</td>\n",
       "      <td>2.00</td>\n",
       "    </tr>\n",
       "    <tr>\n",
       "      <th>22</th>\n",
       "      <td>3.147097</td>\n",
       "      <td>2.17</td>\n",
       "    </tr>\n",
       "    <tr>\n",
       "      <th>23</th>\n",
       "      <td>3.231312</td>\n",
       "      <td>2.25</td>\n",
       "    </tr>\n",
       "  </tbody>\n",
       "</table>\n",
       "</div>"
      ],
      "text/plain": [
       "                  mean  median\n",
       "dropoff_hour                  \n",
       "0             3.239356    2.28\n",
       "1             3.130531    2.20\n",
       "2             3.143715    2.21\n",
       "3             3.225473    2.26\n",
       "4             3.463798    2.37\n",
       "5             4.187841    2.92\n",
       "6             3.932660    2.76\n",
       "7             3.217171    2.05\n",
       "8             2.923779    1.87\n",
       "9             3.016995    1.98\n",
       "10            3.010999    1.98\n",
       "11            2.879559    1.86\n",
       "12            2.907513    1.90\n",
       "13            2.889431    1.85\n",
       "14            2.767255    1.80\n",
       "15            2.771893    1.79\n",
       "16            2.766404    1.80\n",
       "17            2.690678    1.76\n",
       "18            2.673491    1.80\n",
       "19            2.746890    1.86\n",
       "20            2.800049    1.92\n",
       "21            2.931069    2.00\n",
       "22            3.147097    2.17\n",
       "23            3.231312    2.25"
      ]
     },
     "execution_count": 18,
     "metadata": {},
     "output_type": "execute_result"
    }
   ],
   "source": [
    "data.pivot_table(index='dropoff_hour', values='Trip_distance', aggfunc=('mean','median'))"
   ]
  },
  {
   "cell_type": "markdown",
   "metadata": {},
   "source": [
    "We are interested in analyzing those trips which originate/terminate near an airport. To do this we will identify which airports are up for consideration, which in this case are JFK, LaGuardia, and Newark airports. We could look at the RateID to get an idea of which trips to consider, but instead I will opt to find the distances using the pickup and drop-off GPS coordinates. We will use the haversine formula which is used in geography to measure distances between points on Earth. This measure is more robust than a straight line distance as it account for the curvature of the Earth in its calculations. After trying to implement an efficient version of this formula, I opted to find one online and found a very good one (see below for credit)."
   ]
  },
  {
   "cell_type": "code",
   "execution_count": 21,
   "metadata": {
    "collapsed": true
   },
   "outputs": [],
   "source": [
    "### https://nathanrooy.github.io/posts/2016-09-07/haversine-with-python/\n",
    "import math\n",
    "\n",
    "class Haversine:\n",
    "    '''\n",
    "    use the haversine class to calculate the distance between\n",
    "    two lon/lat coordnate pairs.\n",
    "    output distance available in kilometers, meters, miles, and feet.\n",
    "    example usage: Haversine([lon1,lat1],[lon2,lat2]).feet\n",
    "    \n",
    "    '''\n",
    "    def __init__(self,coord1,coord2):\n",
    "        lon1,lat1=coord1\n",
    "        lon2,lat2=coord2\n",
    "        \n",
    "        R=6371000                               # radius of Earth in meters\n",
    "        phi_1=math.radians(lat1)\n",
    "        phi_2=math.radians(lat2)\n",
    "\n",
    "        delta_phi=math.radians(lat2-lat1)\n",
    "        delta_lambda=math.radians(lon2-lon1)\n",
    "\n",
    "        a=math.sin(delta_phi/2.0)**2+\\\n",
    "           math.cos(phi_1)*math.cos(phi_2)*\\\n",
    "           math.sin(delta_lambda/2.0)**2\n",
    "        c=2*math.atan2(math.sqrt(a),math.sqrt(1-a))\n",
    "        \n",
    "        self.meters=R*c                         # output distance in meters\n",
    "        self.km=self.meters/1000.0              # output distance in kilometers\n",
    "        self.miles=self.meters*0.000621371      # output distance in miles\n",
    "        self.feet=self.miles*5280               # output distance in feet\n",
    "\n",
    "if __name__ == \"__Haversine__\":\n",
    "    main()"
   ]
  },
  {
   "cell_type": "markdown",
   "metadata": {},
   "source": [
    "After crating this class I used Google maps to find the coordinates of the three corresponding airports. The distance using the haversine formula was then computed for each trip for both it's pickup and drop-off location. Once these distances have been calculated, we can subset our data by classifying those trips which originated/terminated at an airport as being within 1.5 miles from an airport. We can then compute some interesting characteristics of these trips such as the number of each, average fare, and average tip\n",
    "\n",
    "It seems that there are more drop-offs to the airports and the corresponding fares and tips are higher. The tips being higher could be a result of the total fares being higher, however the percentage tip is still higher for drop-offs. An off-the-hand hypothesis is that given how busy these airports are, passenger may be more often running late and thus being more grateful to taxi drivers if they make it on time, leading to a higher tip percentage.\n"
   ]
  },
  {
   "cell_type": "code",
   "execution_count": 45,
   "metadata": {},
   "outputs": [
    {
     "name": "stdout",
     "output_type": "stream",
     "text": [
      "Number of Taxi pickups at airport: 8339\n",
      "Number of Taxi dropoffs at airport: 60532\n",
      "Average fare of pickups at airport: 13.35023504017266\n",
      "Average fare of dropoffs at airport: 21.575358157668656\n",
      "Average tip of pickups at airport: 1.056458808010552\n",
      "Average tip of dropoffs at airport: 2.6081208286526527\n"
     ]
    }
   ],
   "source": [
    "jfk_long = -73.7781\n",
    "jfk_lat = 40.6413\n",
    "\n",
    "ewr_long = -74.1745\n",
    "ewr_lat = 40.6895\n",
    "\n",
    "lga_long = -73.8740\n",
    "lga_lat = 40.7769\n",
    "\n",
    "\n",
    "dist_to_jfk = data.apply(lambda x: Haversine([jfk_long, jfk_lat], [x.Pickup_longitude, x.Pickup_latitude]).miles, axis = 1)\n",
    "dist_to_ewr = data.apply(lambda x: Haversine([ewr_long, ewr_lat], [x.Pickup_longitude, x.Pickup_latitude]).miles, axis = 1)\n",
    "dist_to_lga = data.apply(lambda x: Haversine([lga_long, lga_lat], [x.Pickup_longitude, x.Pickup_latitude]).miles, axis = 1)\n",
    "\n",
    "pickup_by_airport = data[(dist_to_jfk < 1.5) | (dist_to_ewr < 1.5) | (dist_to_lga < 1.5)]\n",
    "\n",
    "dist_to_jfk = data.apply(lambda x: Haversine([jfk_long, jfk_lat], [x.Dropoff_longitude, x.Dropoff_latitude]).miles, axis = 1)\n",
    "dist_to_ewr = data.apply(lambda x: Haversine([ewr_long, ewr_lat], [x.Dropoff_longitude, x.Dropoff_latitude]).miles, axis = 1)\n",
    "dist_to_lga = data.apply(lambda x: Haversine([lga_long, lga_lat], [x.Dropoff_longitude, x.Dropoff_latitude]).miles, axis = 1)\n",
    "\n",
    "dropoff_by_airport = data[(dist_to_jfk < 1.5) | (dist_to_ewr < 1.5) | (dist_to_lga < 1.5)]\n",
    "\n",
    "\n",
    "print('Number of Taxi pickups at airport:' , pickup_by_airport.shape[0])\n",
    "print('Number of Taxi dropoffs at airport:', dropoff_by_airport.shape[0])\n",
    "\n",
    "print('Average fare of pickups at airport:' , pickup_by_airport.Fare_amount.mean())\n",
    "print('Average fare of dropoffs at airport:', dropoff_by_airport.Fare_amount.mean())\n",
    "\n",
    "print('Average tip of pickups at airport:' , pickup_by_airport.Tip_amount.mean())\n",
    "print('Average tip of dropoffs at airport:', dropoff_by_airport.Tip_amount.mean())"
   ]
  },
  {
   "cell_type": "markdown",
   "metadata": {},
   "source": [
    "We can create some histograms to do some analysis on the difference between trips that picked up passengers by airports, and those that dropped them off. Intuitively, we see that most of the pickups occur in the morning and most of the drop-off occur at night. Since NYC is a major business hub, there are many people flying in and out of the city for their jobs/conferences/etc. We could do even further analysis by seeing which days have the most pickups/dropoffs, but due to time constraints we can leave that for later. "
   ]
  },
  {
   "cell_type": "code",
   "execution_count": 27,
   "metadata": {},
   "outputs": [
    {
     "data": {
      "image/png": "[encoded data removed]",
      "text/plain": [
       "<matplotlib.figure.Figure at 0x294f75c7da0>"
      ]
     },
     "metadata": {},
     "output_type": "display_data"
    }
   ],
   "source": [
    "fig,ax = plt.subplots(1,2,figsize = (15,4))\n",
    "\n",
    "pickup_by_airport.pickup_hour.hist(bins = 24, ax = ax[0], normed = True)\n",
    "ax[0].set_xlabel('Hour of Day')\n",
    "ax[0].set_ylabel('Frequency')\n",
    "ax[0].set_title('Histogram of Pick Up Hours by Airports')\n",
    "\n",
    "dropoff_by_airport.dropoff_hour.hist( bins = 24, ax = ax[1], normed = True)\n",
    "ax[1].set_xlabel('Hour of Day')\n",
    "ax[1].set_ylabel('Frequency')\n",
    "ax[1].set_title('Histogram of Drop-off Hours by Airports')\n",
    "\n",
    "plt.show()"
   ]
  },
  {
   "cell_type": "markdown",
   "metadata": {},
   "source": [
    "## Predictive modeling\n",
    "\n",
    "In this next section we will aim to building a model which will predict how much a passenger will tip the taxi driver given the features in our dataset. Before we do this, we will have to do some data cleanup, feature engineering, and model tuning. First, we will create the target variable, which the tip percentage. Summary statistics on this feature show that the average tip is around 6% and the largest tip being 100%\n"
   ]
  },
  {
   "cell_type": "code",
   "execution_count": 28,
   "metadata": {},
   "outputs": [
    {
     "data": {
      "text/plain": [
       "count    1.490754e+06\n",
       "mean     6.653826e+00\n",
       "std      8.875158e+00\n",
       "min      0.000000e+00\n",
       "25%      0.000000e+00\n",
       "50%      0.000000e+00\n",
       "75%      1.666667e+01\n",
       "max      1.000000e+02\n",
       "Name: tip_percent, dtype: float64"
      ]
     },
     "execution_count": 28,
     "metadata": {},
     "output_type": "execute_result"
    }
   ],
   "source": [
    "#Question 4\n",
    "\n",
    "data['tip_percent'] = 100*data.Tip_amount/data.Total_amount\n",
    "data['tip_percent'].describe()"
   ]
  },
  {
   "cell_type": "markdown",
   "metadata": {},
   "source": [
    "We will clean up our dataset now by doing the following process:\n",
    "\n",
    "1. Read in our data again to ensure original values are used\n",
    "2. Drop the 'Ehail_fee' feature as almost 99% of the data is missing\n",
    "3. Replace missing values in the 'Trip_type' feature with that features mode\n",
    "4. Replace RateCodeId's greater than 6 with that features mode since no value was specified on the feature dictionary\n",
    "5. Change negative numeric values to their absolute value (it is important to specify that I am assuming this is a clerical error and that there was actually no money given the passenger as a negative would indicate)\n",
    "6. Create new features specifying how far each drop-off/pickup is from the three corresponding airports\n",
    "7. Create new feature describing if a pickup/drop-off is close to an airport and which one\n",
    "8. Map categorical feature 'Store_and_fwd_flag' to numeric\n",
    "8. Drop unneeded columns\n",
    "\n",
    "For the new features, a quick clarification is that both the distance from the airport will be used and also another feature which categorizes which airport it is close to (if any)\n"
   ]
  },
  {
   "cell_type": "code",
   "execution_count": 31,
   "metadata": {
    "collapsed": true
   },
   "outputs": [],
   "source": [
    "model_data = pd.read_csv('green_tripdata_2015-09.csv')\n",
    "\n",
    "clean_data = model_data.copy()\n",
    "#Drop Ehail as most data is missing\n",
    "clean_data = clean_data.drop(['Ehail_fee'], axis = 1)\n",
    "    \n",
    "#Fix Column name and replace missing values with mode\n",
    "clean_data.rename(columns={'Trip_type ':'Trip_type'}, inplace = True)\n",
    "clean_data.Trip_type.mode() \n",
    "clean_data.Trip_type.fillna(1, inplace = True)\n",
    "    \n",
    "#Raplce Rate Code ID values greater than 6 with the mode\n",
    "clean_data.loc[clean_data.RateCodeID > 6,'RateCodeID'] = 1\n",
    "\n",
    "    \n",
    "#Replace negative values for payment amounts to their absolute value\n",
    "clean_data.Fare_amount = clean_data.Fare_amount.abs()\n",
    "clean_data.Extra = clean_data.Extra.abs()\n",
    "clean_data.MTA_tax = clean_data.MTA_tax.abs()\n",
    "clean_data.Total_amount = clean_data.Total_amount.abs()\n",
    "clean_data.Tip_amount = clean_data.Tip_amount.abs()\n",
    "clean_data.Tolls_amount = clean_data.Tolls_amount.abs()\n",
    "clean_data.improvement_surcharge = clean_data.improvement_surcharge.abs()\n",
    "clean_data.Total_amount = clean_data.Total_amount.abs()\n",
    "    \n",
    "    \n",
    "#Change Times to datetime format\n",
    "clean_data['pickup_time'] = clean_data.lpep_pickup_datetime.apply( lambda x: datetime.strptime(x, \"%Y-%m-%d %H:%M:%S\"))\n",
    "clean_data['dropoff_time'] = clean_data.Lpep_dropoff_datetime.apply( lambda x: datetime.strptime(x, \"%Y-%m-%d %H:%M:%S\"))\n",
    "\n",
    "clean_data['pickup_hour'] = clean_data.pickup_time.apply(lambda x: x.hour)\n",
    "clean_data['dropoff_hour'] = clean_data.dropoff_time.apply(lambda x: x.hour)\n",
    "\n",
    "#Create variable describing if picked up near airport\n",
    "clean_data['pickup_dist_to_jfk'] = clean_data.apply(lambda x: Haversine([jfk_long, jfk_lat], [x.Pickup_longitude, x.Pickup_latitude]).miles, axis = 1)\n",
    "clean_data['pickup_dist_to_ewr'] = clean_data.apply(lambda x: Haversine([ewr_long, ewr_lat], [x.Pickup_longitude, x.Pickup_latitude]).miles, axis = 1)\n",
    "clean_data['pickup_dist_to_lga'] = clean_data.apply(lambda x: Haversine([lga_long, lga_lat], [x.Pickup_longitude, x.Pickup_latitude]).miles, axis = 1)\n",
    "\n",
    "clean_data['pickup_near_airport'] = 0\n",
    "clean_data.loc[clean_data['pickup_dist_to_jfk'] < 1.5, 'pickup_near_airport'] = 1\n",
    "clean_data.loc[clean_data['pickup_dist_to_ewr'] < 1.5, 'pickup_near_airport'] = 2\n",
    "clean_data.loc[clean_data['pickup_dist_to_lga'] < 1.5, 'pickup_near_airport'] = 3\n",
    "    \n",
    "clean_data['dropoff_dist_to_jfk'] = data.apply(lambda x: Haversine([jfk_long, jfk_lat], [x.Dropoff_longitude, x.Dropoff_latitude]).miles, axis = 1)\n",
    "clean_data['dropoff_dist_to_ewr'] = data.apply(lambda x: Haversine([ewr_long, ewr_lat], [x.Dropoff_longitude, x.Dropoff_latitude]).miles, axis = 1)\n",
    "clean_data['dropoff_dist_to_lga'] = data.apply(lambda x: Haversine([lga_long, lga_lat], [x.Dropoff_longitude, x.Dropoff_latitude]).miles, axis = 1)\n",
    "\n",
    "clean_data['dropoff_near_airport'] = 0\n",
    "clean_data.loc[clean_data['dropoff_dist_to_jfk'] < 1.5, 'dropoff_near_airport'] = 1\n",
    "clean_data.loc[clean_data['dropoff_dist_to_ewr'] < 1.5, 'dropoff_near_airport'] = 2\n",
    "clean_data.loc[clean_data['dropoff_dist_to_lga'] < 1.5, 'dropoff_near_airport'] = 3\n",
    "\n",
    "#Map Categorical to numeric\n",
    "clean_data.Store_and_fwd_flag = clean_data.Store_and_fwd_flag.map({'N':0, 'Y':1})\n",
    "\n",
    "#Drop unneeeded columns\n",
    "clean_data = clean_data.drop(['lpep_pickup_datetime', 'Lpep_dropoff_datetime',\n",
    "                 'Pickup_longitude', 'Pickup_latitude', \n",
    "                 'Dropoff_longitude', 'Dropoff_latitude',\n",
    "                 'pickup_time', 'dropoff_time'], axis = 1)\n",
    "    "
   ]
  },
  {
   "cell_type": "markdown",
   "metadata": {},
   "source": [
    "We will do a sanity check to ensure no data is missing and the columns we need are present as this may cause problems for the machine learning algorithms intended to be used later. Thankfully, it looks like everything is in line."
   ]
  },
  {
   "cell_type": "code",
   "execution_count": 33,
   "metadata": {},
   "outputs": [
    {
     "data": {
      "text/plain": [
       "VendorID                 0\n",
       "Store_and_fwd_flag       0\n",
       "RateCodeID               0\n",
       "Passenger_count          0\n",
       "Trip_distance            0\n",
       "Fare_amount              0\n",
       "Extra                    0\n",
       "MTA_tax                  0\n",
       "Tip_amount               0\n",
       "Tolls_amount             0\n",
       "improvement_surcharge    0\n",
       "Total_amount             0\n",
       "Payment_type             0\n",
       "Trip_type                0\n",
       "pickup_hour              0\n",
       "dropoff_hour             0\n",
       "pickup_dist_to_jfk       0\n",
       "pickup_dist_to_ewr       0\n",
       "pickup_dist_to_lga       0\n",
       "pickup_near_airport      0\n",
       "dropoff_dist_to_jfk      0\n",
       "dropoff_dist_to_ewr      0\n",
       "dropoff_dist_to_lga      0\n",
       "dropoff_near_airport     0\n",
       "dtype: int64"
      ]
     },
     "execution_count": 33,
     "metadata": {},
     "output_type": "execute_result"
    }
   ],
   "source": [
    "clean_data.isnull().sum()"
   ]
  },
  {
   "cell_type": "code",
   "execution_count": 32,
   "metadata": {},
   "outputs": [
    {
     "data": {
      "text/html": [
       "<div>\n",
       "<style>\n",
       "    .dataframe thead tr:only-child th {\n",
       "        text-align: right;\n",
       "    }\n",
       "\n",
       "    .dataframe thead th {\n",
       "        text-align: left;\n",
       "    }\n",
       "\n",
       "    .dataframe tbody tr th {\n",
       "        vertical-align: top;\n",
       "    }\n",
       "</style>\n",
       "<table border=\"1\" class=\"dataframe\">\n",
       "  <thead>\n",
       "    <tr style=\"text-align: right;\">\n",
       "      <th></th>\n",
       "      <th>VendorID</th>\n",
       "      <th>Store_and_fwd_flag</th>\n",
       "      <th>RateCodeID</th>\n",
       "      <th>Passenger_count</th>\n",
       "      <th>Trip_distance</th>\n",
       "      <th>Fare_amount</th>\n",
       "      <th>Extra</th>\n",
       "      <th>MTA_tax</th>\n",
       "      <th>Tip_amount</th>\n",
       "      <th>Tolls_amount</th>\n",
       "      <th>...</th>\n",
       "      <th>pickup_hour</th>\n",
       "      <th>dropoff_hour</th>\n",
       "      <th>pickup_dist_to_jfk</th>\n",
       "      <th>pickup_dist_to_ewr</th>\n",
       "      <th>pickup_dist_to_lga</th>\n",
       "      <th>pickup_near_airport</th>\n",
       "      <th>dropoff_dist_to_jfk</th>\n",
       "      <th>dropoff_dist_to_ewr</th>\n",
       "      <th>dropoff_dist_to_lga</th>\n",
       "      <th>dropoff_near_airport</th>\n",
       "    </tr>\n",
       "  </thead>\n",
       "  <tbody>\n",
       "    <tr>\n",
       "      <th>count</th>\n",
       "      <td>1.494926e+06</td>\n",
       "      <td>1.494926e+06</td>\n",
       "      <td>1.494926e+06</td>\n",
       "      <td>1.494926e+06</td>\n",
       "      <td>1.494926e+06</td>\n",
       "      <td>1.494926e+06</td>\n",
       "      <td>1.494926e+06</td>\n",
       "      <td>1.494926e+06</td>\n",
       "      <td>1.494926e+06</td>\n",
       "      <td>1.494926e+06</td>\n",
       "      <td>...</td>\n",
       "      <td>1.494926e+06</td>\n",
       "      <td>1.494926e+06</td>\n",
       "      <td>1.494926e+06</td>\n",
       "      <td>1.494926e+06</td>\n",
       "      <td>1.494926e+06</td>\n",
       "      <td>1.494926e+06</td>\n",
       "      <td>1.494926e+06</td>\n",
       "      <td>1.494926e+06</td>\n",
       "      <td>1.494926e+06</td>\n",
       "      <td>1.494926e+06</td>\n",
       "    </tr>\n",
       "    <tr>\n",
       "      <th>mean</th>\n",
       "      <td>1.782045e+00</td>\n",
       "      <td>5.842430e-03</td>\n",
       "      <td>1.097260e+00</td>\n",
       "      <td>1.370598e+00</td>\n",
       "      <td>2.968141e+00</td>\n",
       "      <td>1.257645e+01</td>\n",
       "      <td>3.523639e-01</td>\n",
       "      <td>4.881038e-01</td>\n",
       "      <td>1.235904e+00</td>\n",
       "      <td>1.231683e-01</td>\n",
       "      <td>...</td>\n",
       "      <td>1.353407e+01</td>\n",
       "      <td>1.347794e+01</td>\n",
       "      <td>1.923594e+01</td>\n",
       "      <td>2.128205e+01</td>\n",
       "      <td>1.297712e+01</td>\n",
       "      <td>1.627438e-02</td>\n",
       "      <td>1.861605e+01</td>\n",
       "      <td>2.077453e+01</td>\n",
       "      <td>1.265310e+01</td>\n",
       "      <td>1.035061e-01</td>\n",
       "    </tr>\n",
       "    <tr>\n",
       "      <th>std</th>\n",
       "      <td>4.128570e-01</td>\n",
       "      <td>7.621220e-02</td>\n",
       "      <td>6.049419e-01</td>\n",
       "      <td>1.039426e+00</td>\n",
       "      <td>3.076621e+00</td>\n",
       "      <td>1.004128e+01</td>\n",
       "      <td>3.652671e-01</td>\n",
       "      <td>7.620108e-02</td>\n",
       "      <td>2.431386e+00</td>\n",
       "      <td>8.910049e-01</td>\n",
       "      <td>...</td>\n",
       "      <td>6.799624e+00</td>\n",
       "      <td>6.892356e+00</td>\n",
       "      <td>2.012907e+02</td>\n",
       "      <td>2.020039e+02</td>\n",
       "      <td>2.017730e+02</td>\n",
       "      <td>2.192457e-01</td>\n",
       "      <td>1.941715e+02</td>\n",
       "      <td>1.948555e+02</td>\n",
       "      <td>1.946229e+02</td>\n",
       "      <td>5.304224e-01</td>\n",
       "    </tr>\n",
       "    <tr>\n",
       "      <th>min</th>\n",
       "      <td>1.000000e+00</td>\n",
       "      <td>0.000000e+00</td>\n",
       "      <td>1.000000e+00</td>\n",
       "      <td>0.000000e+00</td>\n",
       "      <td>0.000000e+00</td>\n",
       "      <td>0.000000e+00</td>\n",
       "      <td>0.000000e+00</td>\n",
       "      <td>0.000000e+00</td>\n",
       "      <td>0.000000e+00</td>\n",
       "      <td>0.000000e+00</td>\n",
       "      <td>...</td>\n",
       "      <td>0.000000e+00</td>\n",
       "      <td>0.000000e+00</td>\n",
       "      <td>2.655135e-01</td>\n",
       "      <td>1.750998e-01</td>\n",
       "      <td>1.631980e-01</td>\n",
       "      <td>0.000000e+00</td>\n",
       "      <td>2.292553e-01</td>\n",
       "      <td>1.717118e-01</td>\n",
       "      <td>1.443062e-01</td>\n",
       "      <td>0.000000e+00</td>\n",
       "    </tr>\n",
       "    <tr>\n",
       "      <th>25%</th>\n",
       "      <td>2.000000e+00</td>\n",
       "      <td>0.000000e+00</td>\n",
       "      <td>1.000000e+00</td>\n",
       "      <td>1.000000e+00</td>\n",
       "      <td>1.100000e+00</td>\n",
       "      <td>6.500000e+00</td>\n",
       "      <td>0.000000e+00</td>\n",
       "      <td>5.000000e-01</td>\n",
       "      <td>0.000000e+00</td>\n",
       "      <td>0.000000e+00</td>\n",
       "      <td>...</td>\n",
       "      <td>9.000000e+00</td>\n",
       "      <td>9.000000e+00</td>\n",
       "      <td>9.896457e+00</td>\n",
       "      <td>1.153752e+01</td>\n",
       "      <td>3.793916e+00</td>\n",
       "      <td>0.000000e+00</td>\n",
       "      <td>9.713395e+00</td>\n",
       "      <td>1.143888e+01</td>\n",
       "      <td>3.925887e+00</td>\n",
       "      <td>0.000000e+00</td>\n",
       "    </tr>\n",
       "    <tr>\n",
       "      <th>50%</th>\n",
       "      <td>2.000000e+00</td>\n",
       "      <td>0.000000e+00</td>\n",
       "      <td>1.000000e+00</td>\n",
       "      <td>1.000000e+00</td>\n",
       "      <td>1.980000e+00</td>\n",
       "      <td>9.500000e+00</td>\n",
       "      <td>5.000000e-01</td>\n",
       "      <td>5.000000e-01</td>\n",
       "      <td>0.000000e+00</td>\n",
       "      <td>0.000000e+00</td>\n",
       "      <td>...</td>\n",
       "      <td>1.500000e+01</td>\n",
       "      <td>1.500000e+01</td>\n",
       "      <td>1.125959e+01</td>\n",
       "      <td>1.395626e+01</td>\n",
       "      <td>4.995912e+00</td>\n",
       "      <td>0.000000e+00</td>\n",
       "      <td>1.151715e+01</td>\n",
       "      <td>1.357247e+01</td>\n",
       "      <td>5.323268e+00</td>\n",
       "      <td>0.000000e+00</td>\n",
       "    </tr>\n",
       "    <tr>\n",
       "      <th>75%</th>\n",
       "      <td>2.000000e+00</td>\n",
       "      <td>0.000000e+00</td>\n",
       "      <td>1.000000e+00</td>\n",
       "      <td>1.000000e+00</td>\n",
       "      <td>3.740000e+00</td>\n",
       "      <td>1.550000e+01</td>\n",
       "      <td>5.000000e-01</td>\n",
       "      <td>5.000000e-01</td>\n",
       "      <td>2.000000e+00</td>\n",
       "      <td>0.000000e+00</td>\n",
       "      <td>...</td>\n",
       "      <td>1.900000e+01</td>\n",
       "      <td>1.900000e+01</td>\n",
       "      <td>1.406028e+01</td>\n",
       "      <td>1.532471e+01</td>\n",
       "      <td>7.339217e+00</td>\n",
       "      <td>0.000000e+00</td>\n",
       "      <td>1.386996e+01</td>\n",
       "      <td>1.557646e+01</td>\n",
       "      <td>7.321338e+00</td>\n",
       "      <td>0.000000e+00</td>\n",
       "    </tr>\n",
       "    <tr>\n",
       "      <th>max</th>\n",
       "      <td>2.000000e+00</td>\n",
       "      <td>1.000000e+00</td>\n",
       "      <td>6.000000e+00</td>\n",
       "      <td>9.000000e+00</td>\n",
       "      <td>6.031000e+02</td>\n",
       "      <td>5.805000e+02</td>\n",
       "      <td>1.200000e+01</td>\n",
       "      <td>5.000000e-01</td>\n",
       "      <td>3.000000e+02</td>\n",
       "      <td>9.575000e+01</td>\n",
       "      <td>...</td>\n",
       "      <td>2.300000e+01</td>\n",
       "      <td>2.300000e+01</td>\n",
       "      <td>5.372815e+03</td>\n",
       "      <td>5.393848e+03</td>\n",
       "      <td>5.379492e+03</td>\n",
       "      <td>3.000000e+00</td>\n",
       "      <td>5.372815e+03</td>\n",
       "      <td>5.393848e+03</td>\n",
       "      <td>5.379492e+03</td>\n",
       "      <td>3.000000e+00</td>\n",
       "    </tr>\n",
       "  </tbody>\n",
       "</table>\n",
       "<p>8 rows × 24 columns</p>\n",
       "</div>"
      ],
      "text/plain": [
       "           VendorID  Store_and_fwd_flag    RateCodeID  Passenger_count  \\\n",
       "count  1.494926e+06        1.494926e+06  1.494926e+06     1.494926e+06   \n",
       "mean   1.782045e+00        5.842430e-03  1.097260e+00     1.370598e+00   \n",
       "std    4.128570e-01        7.621220e-02  6.049419e-01     1.039426e+00   \n",
       "min    1.000000e+00        0.000000e+00  1.000000e+00     0.000000e+00   \n",
       "25%    2.000000e+00        0.000000e+00  1.000000e+00     1.000000e+00   \n",
       "50%    2.000000e+00        0.000000e+00  1.000000e+00     1.000000e+00   \n",
       "75%    2.000000e+00        0.000000e+00  1.000000e+00     1.000000e+00   \n",
       "max    2.000000e+00        1.000000e+00  6.000000e+00     9.000000e+00   \n",
       "\n",
       "       Trip_distance   Fare_amount         Extra       MTA_tax    Tip_amount  \\\n",
       "count   1.494926e+06  1.494926e+06  1.494926e+06  1.494926e+06  1.494926e+06   \n",
       "mean    2.968141e+00  1.257645e+01  3.523639e-01  4.881038e-01  1.235904e+00   \n",
       "std     3.076621e+00  1.004128e+01  3.652671e-01  7.620108e-02  2.431386e+00   \n",
       "min     0.000000e+00  0.000000e+00  0.000000e+00  0.000000e+00  0.000000e+00   \n",
       "25%     1.100000e+00  6.500000e+00  0.000000e+00  5.000000e-01  0.000000e+00   \n",
       "50%     1.980000e+00  9.500000e+00  5.000000e-01  5.000000e-01  0.000000e+00   \n",
       "75%     3.740000e+00  1.550000e+01  5.000000e-01  5.000000e-01  2.000000e+00   \n",
       "max     6.031000e+02  5.805000e+02  1.200000e+01  5.000000e-01  3.000000e+02   \n",
       "\n",
       "       Tolls_amount          ...            pickup_hour  dropoff_hour  \\\n",
       "count  1.494926e+06          ...           1.494926e+06  1.494926e+06   \n",
       "mean   1.231683e-01          ...           1.353407e+01  1.347794e+01   \n",
       "std    8.910049e-01          ...           6.799624e+00  6.892356e+00   \n",
       "min    0.000000e+00          ...           0.000000e+00  0.000000e+00   \n",
       "25%    0.000000e+00          ...           9.000000e+00  9.000000e+00   \n",
       "50%    0.000000e+00          ...           1.500000e+01  1.500000e+01   \n",
       "75%    0.000000e+00          ...           1.900000e+01  1.900000e+01   \n",
       "max    9.575000e+01          ...           2.300000e+01  2.300000e+01   \n",
       "\n",
       "       pickup_dist_to_jfk  pickup_dist_to_ewr  pickup_dist_to_lga  \\\n",
       "count        1.494926e+06        1.494926e+06        1.494926e+06   \n",
       "mean         1.923594e+01        2.128205e+01        1.297712e+01   \n",
       "std          2.012907e+02        2.020039e+02        2.017730e+02   \n",
       "min          2.655135e-01        1.750998e-01        1.631980e-01   \n",
       "25%          9.896457e+00        1.153752e+01        3.793916e+00   \n",
       "50%          1.125959e+01        1.395626e+01        4.995912e+00   \n",
       "75%          1.406028e+01        1.532471e+01        7.339217e+00   \n",
       "max          5.372815e+03        5.393848e+03        5.379492e+03   \n",
       "\n",
       "       pickup_near_airport  dropoff_dist_to_jfk  dropoff_dist_to_ewr  \\\n",
       "count         1.494926e+06         1.494926e+06         1.494926e+06   \n",
       "mean          1.627438e-02         1.861605e+01         2.077453e+01   \n",
       "std           2.192457e-01         1.941715e+02         1.948555e+02   \n",
       "min           0.000000e+00         2.292553e-01         1.717118e-01   \n",
       "25%           0.000000e+00         9.713395e+00         1.143888e+01   \n",
       "50%           0.000000e+00         1.151715e+01         1.357247e+01   \n",
       "75%           0.000000e+00         1.386996e+01         1.557646e+01   \n",
       "max           3.000000e+00         5.372815e+03         5.393848e+03   \n",
       "\n",
       "       dropoff_dist_to_lga  dropoff_near_airport  \n",
       "count         1.494926e+06          1.494926e+06  \n",
       "mean          1.265310e+01          1.035061e-01  \n",
       "std           1.946229e+02          5.304224e-01  \n",
       "min           1.443062e-01          0.000000e+00  \n",
       "25%           3.925887e+00          0.000000e+00  \n",
       "50%           5.323268e+00          0.000000e+00  \n",
       "75%           7.321338e+00          0.000000e+00  \n",
       "max           5.379492e+03          3.000000e+00  \n",
       "\n",
       "[8 rows x 24 columns]"
      ]
     },
     "execution_count": 32,
     "metadata": {},
     "output_type": "execute_result"
    }
   ],
   "source": [
    "clean_data.describe()"
   ]
  },
  {
   "cell_type": "markdown",
   "metadata": {},
   "source": [
    "Since we are only trying to predict tip as a percentage of the total amount, we will need to discard those fares which have a total amount of zero. This zero amount could be due to discounts made by the taxi driver for a number of reasons, but for the sake of this model we will exclude these rows. "
   ]
  },
  {
   "cell_type": "code",
   "execution_count": 34,
   "metadata": {},
   "outputs": [
    {
     "data": {
      "text/plain": [
       "0.01"
      ]
     },
     "execution_count": 34,
     "metadata": {},
     "output_type": "execute_result"
    }
   ],
   "source": [
    "clean_model = clean_data.copy()\n",
    "\n",
    "clean_model = clean_data.loc[clean_data.Total_amount > 0,:]\n",
    "clean_model.Total_amount.min()"
   ]
  },
  {
   "cell_type": "markdown",
   "metadata": {},
   "source": [
    "For our predictive model we will use a simple stack of two algorithms: Random Forest and Extremely Randomized Trees. Both these regressors work in a similar fashion in that they partition our feature space using decision trees, however the underlying assumptions on the splits occurring in each tree differ from each other. \n",
    "\n",
    "However, before doing this we have to do a few things: take a sample of the data, normalize our data by mean centering and scaling, and create a train and test set. Since this dataset has 1.5 million rows, the processing power of my laptop would result in this model taking a few days to run. I will instead take a random sample of 100,000 rows and use that as my dataset. After normalizing the data, we will create a training set with 2/3 of our data and measure the performance of our model using the test set. \n",
    "\n",
    "We be using a 5-fold cross validated grid search to find the optimal parameters of both our regressors. After each algorithm has been optimized, we will use a linear combination of the two which minimizes the mean squared error.\n"
   ]
  },
  {
   "cell_type": "code",
   "execution_count": 35,
   "metadata": {
    "collapsed": true
   },
   "outputs": [],
   "source": [
    "from sklearn.model_selection import GridSearchCV\n",
    "from sklearn.ensemble import RandomForestRegressor, ExtraTreesRegressor\n",
    "from sklearn.model_selection import train_test_split\n",
    "from sklearn.preprocessing import StandardScaler\n",
    "from sklearn.metrics import mean_squared_error, r2_score\n",
    "\n",
    "\n",
    "clean_model_sample = clean_model.sample(100000, random_state = 2017)\n",
    "\n",
    "\n",
    "X = clean_model_sample.copy()\n",
    "y = 100*clean_model_sample.Tip_amount/clean_model_sample.Total_amount\n",
    "\n",
    "X = StandardScaler().fit_transform(X)\n",
    "\n",
    "X_train, X_test, y_train, y_test = train_test_split( X, y, test_size=0.33, random_state = 2017)\n",
    "  "
   ]
  },
  {
   "cell_type": "code",
   "execution_count": 37,
   "metadata": {},
   "outputs": [
    {
     "name": "stdout",
     "output_type": "stream",
     "text": [
      "0.110979389745\n",
      "0.998598799394\n"
     ]
    }
   ],
   "source": [
    "#Random Forest\n",
    "\n",
    "params = {'n_estimators': np.arange(10,100,10)}\n",
    "\n",
    "reg1 = GridSearchCV(RandomForestRegressor(), params, cv = 5, verbose = 0)\n",
    "\n",
    "reg1.fit(X_train, y_train)\n",
    "\n",
    "reg1.best_params_\n",
    "reg1.best_score_\n",
    "\n",
    "reg1_pred = reg1.predict(X_test)\n",
    "\n",
    "print(mean_squared_error(y_test, reg1_pred))\n",
    "print(r2_score(y_test, reg1_pred))"
   ]
  },
  {
   "cell_type": "code",
   "execution_count": 38,
   "metadata": {},
   "outputs": [
    {
     "name": "stdout",
     "output_type": "stream",
     "text": [
      "0.0439833667851\n",
      "0.999444675986\n"
     ]
    }
   ],
   "source": [
    "#extremely randomized trees\n",
    "\n",
    "params = {'n_estimators': np.arange(10,100,10)}\n",
    "\n",
    "reg2 = GridSearchCV(ExtraTreesRegressor(), params, cv = 5, verbose = 0)\n",
    "\n",
    "reg2.fit(X_train, y_train)\n",
    "\n",
    "reg2.best_params_\n",
    "reg2.best_score_\n",
    "\n",
    "reg2_pred = reg2.predict(X_test)\n",
    "\n",
    "print(mean_squared_error(y_test, reg2_pred))\n",
    "print(r2_score(y_test, reg2_pred))"
   ]
  },
  {
   "cell_type": "markdown",
   "metadata": {},
   "source": [
    "Both regressors seem to fit that data very well, with each having a very low mean squared error. We can push the boundaries of this even further by finding a linear combination of the predictions which minimize the mean squared error. It should be noted that we are using the test set to find this last optimization which is not always possible in the real world. However, given the abundance of data in this dataset I went ahead with this method. We see that we are able to lower the mean squared error even further using this method. Although the result may not be materially significant, this shows the power of a simple stacking of two regressors.\n",
    "\n",
    "Going forward there is definitely room to improve by tuning more hyperparamets in the Random Forest and Extremely randomized tree algorithms. There is also the possibility of adding in other regressors and creating more complicated stacks which can push the boundaries of how accurate our predictive model can be\n"
   ]
  },
  {
   "cell_type": "code",
   "execution_count": 43,
   "metadata": {},
   "outputs": [
    {
     "name": "stdout",
     "output_type": "stream",
     "text": [
      "Best coefficient for ET Regressor: 0.9\n",
      "Best coefficient for RF Regressor: 0.1\n",
      "Best mean squared error: 0.0431354878084\n",
      "Best R2 Score: 0.999455381114\n"
     ]
    }
   ],
   "source": [
    "best_i = float(0)\n",
    "best_j = float(0)\n",
    "best_score = float(1000)\n",
    "\n",
    "for i in np.arange(0,1.01,.01):\n",
    "    for j in np.arange(0,1.01,.01):\n",
    "        score = mean_squared_error(y_test, i*reg2_pred + j*reg1_pred)\n",
    "        if score < best_score:\n",
    "            best_score = score\n",
    "            best_i = i\n",
    "            best_j = j\n",
    "        \n",
    "print('Best coefficient for ET Regressor:', best_i)\n",
    "print('Best coefficient for RF Regressor:', best_j)  \n",
    "print('Best mean squared error:' , mean_squared_error(y_test, best_i*reg2_pred + best_j*reg1_pred))     \n",
    "print('Best R2 Score:', r2_score(y_test, best_i*reg2_pred + best_j*reg1_pred))"
   ]
  },
  {
   "cell_type": "markdown",
   "metadata": {},
   "source": [
    "## Analysis on Speeds\n",
    "\n",
    "We will be doing some analysis and statistical tests on the weekly speeds of the taxis. We will want to see if the averages of weekly speeds various enough to statistically reject a hypothesis stating that they are similar. \n",
    "\n",
    "We will first do a one way ANOVA test which determines if there are any statistically significant differences between the means of two or more groups. We will then do a t-test between each week to see if there are any intra month similarities. First we will need to derive a speed feature which we can by extracting the time between dropoff and pickup, then dividing by the trip distance. We will also need to exclude those values which are unrealistic, whose occurrence is due most likely to incorrect data entry. Note that the weeks shown will be weeks according to the beginning of the year, not since the beginning of September\n"
   ]
  },
  {
   "cell_type": "code",
   "execution_count": 47,
   "metadata": {},
   "outputs": [],
   "source": [
    "data['tot_time'] = data.apply(lambda x: (x['dropoff_time'] - x['pickup_time']).total_seconds(), axis = 1)\n",
    "\n",
    "data['speed'] = 3600*data['Trip_distance']/ data['tot_time']\n",
    "\n",
    "data['day'] = data.dropoff_time.apply(lambda x: x.day)\n",
    "\n",
    "data['week'] = data.dropoff_time.apply(lambda x: x.week)"
   ]
  },
  {
   "cell_type": "code",
   "execution_count": 48,
   "metadata": {},
   "outputs": [
    {
     "data": {
      "text/plain": [
       "count    1.433724e+06\n",
       "mean     1.265069e+01\n",
       "std      4.814452e+00\n",
       "min      1.001494e+00\n",
       "25%      9.417440e+00\n",
       "50%      1.176349e+01\n",
       "75%      1.486567e+01\n",
       "max      3.000000e+01\n",
       "Name: speed, dtype: float64"
      ]
     },
     "execution_count": 48,
     "metadata": {},
     "output_type": "execute_result"
    }
   ],
   "source": [
    "data = data.loc[(data.speed > 1) & (data.speed <30),:]\n",
    "\n",
    "data.speed.describe()"
   ]
  },
  {
   "cell_type": "code",
   "execution_count": 54,
   "metadata": {},
   "outputs": [
    {
     "data": {
      "image/png": "[encoded data removed]",
      "text/plain": [
       "<matplotlib.figure.Figure at 0x2951b473d68>"
      ]
     },
     "metadata": {},
     "output_type": "display_data"
    }
   ],
   "source": [
    "data.boxplot('speed', 'week')\n",
    "plt.title('')\n",
    "plt.show()"
   ]
  },
  {
   "cell_type": "markdown",
   "metadata": {},
   "source": [
    "The ANOVA has a very small p-value, leading us to reject the null hypothesis that the means of these speeds are similar. However, we must note that we are violating some of the assumptions of ANOVA, most notably the independence of data points and no significant outliers. Assuming that we are not grossly violating these assumptions though, we can proceed with the t-tests."
   ]
  },
  {
   "cell_type": "code",
   "execution_count": 55,
   "metadata": {},
   "outputs": [
    {
     "data": {
      "text/plain": [
       "F_onewayResult(statistic=1059.639828036645, pvalue=0.0)"
      ]
     },
     "execution_count": 55,
     "metadata": {},
     "output_type": "execute_result"
    }
   ],
   "source": [
    "from scipy.stats import f_oneway\n",
    "\n",
    "f_oneway(data.loc[data.week == 36, 'speed'], data.loc[data.week == 37 , 'speed'],\n",
    "         data.loc[data.week == 38, 'speed'], data.loc[data.week == 39, 'speed'],\n",
    "         data.loc[data.week == 40, 'speed'])"
   ]
  },
  {
   "cell_type": "markdown",
   "metadata": {},
   "source": [
    "The t-tests between each of the weeks show that we reject the null hypothesis that the means between each of the weeks are equal. all the p-values are either 0 or very close to 0, with the exception of the p-value between weeks 2 and 3. My hypothesis on why they differ would have to do with the weather, since September lies in fall and the weather significantly drops that may lead to some impact on inner city transportation"
   ]
  },
  {
   "cell_type": "code",
   "execution_count": 56,
   "metadata": {},
   "outputs": [
    {
     "name": "stdout",
     "output_type": "stream",
     "text": [
      "[1.0, 0.0, 0.0, 6.4102987172710384e-18, 0.0]\n",
      "[0.0, 1.0, 0.00028531284667125103, 0.0, 4.3562604958409219e-22]\n",
      "[0.0, 0.00028531284667125103, 1.0, 8.5518483863695845e-279, 5.8631845224532913e-36]\n",
      "[6.4102987172710384e-18, 0.0, 8.5518483863695845e-279, 1.0, 0.0]\n",
      "[0.0, 4.3562604958409219e-22, 5.8631845224532913e-36, 0.0, 1.0]\n"
     ]
    }
   ],
   "source": [
    "from scipy.stats import ttest_ind\n",
    "\n",
    "p_values_36 = []\n",
    "for i in np.arange(36,41,1): \n",
    "        p_values_36.append(ttest_ind(data.loc[data.week == 36, 'speed'],data.loc[data.week == i, 'speed'])[1])\n",
    "\n",
    "p_values_37 = []\n",
    "for i in np.arange(36,41,1): \n",
    "        p_values_37.append(ttest_ind(data.loc[data.week == 37, 'speed'],data.loc[data.week == i, 'speed'])[1])\n",
    "\n",
    "p_values_38 = []\n",
    "for i in np.arange(36,41,1): \n",
    "        p_values_38.append(ttest_ind(data.loc[data.week == 38, 'speed'],data.loc[data.week == i, 'speed'])[1])\n",
    "\n",
    "p_values_39 = []\n",
    "for i in np.arange(36,41,1): \n",
    "        p_values_39.append(ttest_ind(data.loc[data.week == 39, 'speed'],data.loc[data.week == i, 'speed'])[1])\n",
    "\n",
    "p_values_40 = []\n",
    "for i in np.arange(36,41,1): \n",
    "        p_values_40.append(ttest_ind(data.loc[data.week == 40, 'speed'],data.loc[data.week == i, 'speed'])[1])\n",
    "\n",
    "print(p_values_36)\n",
    "print(p_values_37)\n",
    "print(p_values_38)\n",
    "print(p_values_39)\n",
    "print(p_values_40)"
   ]
  },
  {
   "cell_type": "markdown",
   "metadata": {},
   "source": [
    "Looking at speeds by hour of the day, it immediately pops out that around 6 and 7 am have a much higher mean than the rest of the day. This is probably due to the morning commute of those people who work far from their workplaces and have to beat the morning rush hour. Since the roads are somewhat clearer before the rush, they are able to achieve a faster speed than they would have if they left during rush hour. The one way ANOVA also shows us that is reject the null hypothesis that the means between the hours are the same."
   ]
  },
  {
   "cell_type": "code",
   "execution_count": 59,
   "metadata": {},
   "outputs": [
    {
     "data": {
      "image/png": "[encoded data removed]",
      "text/plain": [
       "<matplotlib.figure.Figure at 0x2951ce68ba8>"
      ]
     },
     "metadata": {},
     "output_type": "display_data"
    }
   ],
   "source": [
    "data.boxplot('speed', 'pickup_hour')\n",
    "plt.title('')\n",
    "plt.show()"
   ]
  },
  {
   "cell_type": "code",
   "execution_count": 62,
   "metadata": {},
   "outputs": [
    {
     "data": {
      "text/plain": [
       "F_onewayResult(statistic=4924.2980771783632, pvalue=0.0)"
      ]
     },
     "execution_count": 62,
     "metadata": {},
     "output_type": "execute_result"
    }
   ],
   "source": [
    "\n",
    "\n",
    "f_oneway(data.loc[data.pickup_hour == 0, 'speed'], data.loc[data.pickup_hour == 1, 'speed'],\n",
    "         data.loc[data.pickup_hour == 2, 'speed'],data.loc[data.pickup_hour == 3, 'speed'],\n",
    "         data.loc[data.pickup_hour == 4, 'speed'],data.loc[data.pickup_hour == 5, 'speed'],\n",
    "         data.loc[data.pickup_hour == 6, 'speed'],data.loc[data.pickup_hour == 7, 'speed'],\n",
    "         data.loc[data.pickup_hour == 8, 'speed'],data.loc[data.pickup_hour == 9, 'speed'],\n",
    "         data.loc[data.pickup_hour == 10, 'speed'],data.loc[data.pickup_hour == 11, 'speed'],\n",
    "         data.loc[data.pickup_hour == 12, 'speed'],data.loc[data.pickup_hour == 13, 'speed'],\n",
    "         data.loc[data.pickup_hour == 14, 'speed'],data.loc[data.pickup_hour == 15, 'speed'],\n",
    "         data.loc[data.pickup_hour == 16, 'speed'],data.loc[data.pickup_hour == 17, 'speed'],\n",
    "         data.loc[data.pickup_hour == 18, 'speed'],data.loc[data.pickup_hour == 19, 'speed'],\n",
    "         data.loc[data.pickup_hour == 20, 'speed'],data.loc[data.pickup_hour == 21, 'speed'],\n",
    "         data.loc[data.pickup_hour == 22, 'speed'],data.loc[data.pickup_hour == 23, 'speed'])"
   ]
  },
  {
   "cell_type": "code",
   "execution_count": null,
   "metadata": {
    "collapsed": true
   },
   "outputs": [],
   "source": []
  }
 ],
 "metadata": {
  "kernelspec": {
   "display_name": "Python 3",
   "language": "python",
   "name": "python3"
  },
  "language_info": {
   "codemirror_mode": {
    "name": "ipython",
    "version": 3
   },
   "file_extension": ".py",
   "mimetype": "text/x-python",
   "name": "python",
   "nbconvert_exporter": "python",
   "pygments_lexer": "ipython3",
   "version": "3.6.2"
  }
 },
 "nbformat": 4,
 "nbformat_minor": 2
}
